{
 "cells": [
  {
   "cell_type": "code",
   "execution_count": 2,
   "metadata": {},
   "outputs": [
    {
     "name": "stdout",
     "output_type": "stream",
     "text": [
      "print\n"
     ]
    }
   ],
   "source": [
    "class ProgressProxy:\n",
    "    def __init__(self, progress) -> None:\n",
    "        self.progress = progress\n",
    "\n",
    "    def __getattr__(self, name):\n",
    "        return getattr(self.progress, name)\n",
    "class AAA:\n",
    "    def print(self):\n",
    "        print('print')\n",
    "\n",
    "a = ProgressProxy(AAA())\n",
    "a.print()"
   ]
  }
 ],
 "metadata": {
  "kernelspec": {
   "display_name": "Python 3",
   "language": "python",
   "name": "python3"
  },
  "language_info": {
   "codemirror_mode": {
    "name": "ipython",
    "version": 3
   },
   "file_extension": ".py",
   "mimetype": "text/x-python",
   "name": "python",
   "nbconvert_exporter": "python",
   "pygments_lexer": "ipython3",
   "version": "3.10.13"
  }
 },
 "nbformat": 4,
 "nbformat_minor": 2
}
